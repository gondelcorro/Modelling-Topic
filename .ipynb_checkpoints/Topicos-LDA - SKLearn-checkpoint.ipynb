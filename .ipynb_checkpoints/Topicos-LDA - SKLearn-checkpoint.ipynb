{
 "cells": [
  {
   "cell_type": "markdown",
   "metadata": {},
   "source": [
    "# Modelado de Topicos en Especificaciones de API's REST con LDA usando NLTK y SKLearn"
   ]
  },
  {
   "cell_type": "markdown",
   "metadata": {},
   "source": [
    "Este trabajo se propone identificar topicos presentes en la descripcion de las API's REST disponibles en el repositorio https://github.com/APIs-guru/openapi-directory/tree/master/APIs con el objetivo de detectar información referida a prácticas de despligue y aspectos no funcionales de una apliacación. En particular, el enfoque se basa en el modelado de tópicos utilizando el modelo Latent Dirichlet Allocation (LDA), un modelo probabilístico generativo de tópicos. \n",
    "\n",
    "El repositorio analizado está formado por 326 aplicaciones (adobe, instagram, amazon, github, entre otras) que contienen 1418 archivos \"swagger.yaml\" y \"openapi.yaml\" y, de estos últimos, 1026 (72,35\\%) contienen las propiedades \"description\" y \"summary\" que fueron usadas para formar los documentos.\n",
    "\n",
    "El flujo de trabajo propuesto para la detección de los tópicos consta de cuatro etapas: I) Generación del corpus, II) Pre-procesamiento, III) Construcción del modelo, y IV) Identificación de tópicos. La implementación se llevó a cabo con los paquetes NLTK y SKLearn de Python."
   ]
  },
  {
   "cell_type": "markdown",
   "metadata": {},
   "source": [
    "**I)- Generación del Corpus:** El primer paso fue crear el corpus de referencia a partir de las especificaciones de APIs del repositorio en estudio. El proceso consistió en recorrer el repositorio y, para cada uno de los archivos swagger y openapi que se encuentran en los distintos directorios de las aplicaciones, generar un documento con la información presente en los tags \"description\" y \"summary\" (para cada operación http del path correspondiente). Finalmente, se obtuvo un corpus con un total de 1026 documentos. "
   ]
  },
  {
   "cell_type": "code",
   "execution_count": 4,
   "metadata": {},
   "outputs": [
    {
     "name": "stdout",
     "output_type": "stream",
     "text": [
      "NUMERO DE ELEMENTOS: 1026\n",
      "['Stock and Forex Data and Realtime Quotes Get quotes for all symbols Get a list of symbols for which we provide real-time quotes', 'Strong authentication, without the passwords.']\n"
     ]
    }
   ],
   "source": [
    "import sys\n",
    "import os\n",
    "import yaml\n",
    "\n",
    "data_list=[]\n",
    "\n",
    "for base, dirs, files in os.walk('E:/ISISTAN/Cursos/Mineria de datos/Trabajo topicos/openapi-directory-master/APIs-original'):\n",
    "    for f in files:\n",
    "        text_document = ''\n",
    "        if f == \"swagger.yaml\" or f == \"openapi.yaml\":\n",
    "            data = yaml.safe_load(open(os.path.join(base,f), encoding=\"utf8\"))\n",
    "            try:\n",
    "                if 'description' in list(data['info'].keys()):\n",
    "                    text_document = str(data['info']['description']) + ' '\n",
    "                    #data_list.append(data['info']['description'])\n",
    "                    #print(data['info']['description'])\n",
    "                    \n",
    "                for api in data['paths'].keys():\n",
    "                    for methodHTTP in data['paths'][api].keys():\n",
    "                        #print(data['paths'][api][methodHTTP].keys())\n",
    "                        if 'summary' in list(data['paths'][api][methodHTTP].keys()):\n",
    "                            text_document = text_document + str(data['paths'][api][methodHTTP]['summary']) + ' '\n",
    "                            #print(data['paths'][api][methodHTTP]['summary'])\n",
    "                            #data_list.append(data['paths'][api][methodHTTP]['summary'])\n",
    "               \n",
    "                text_document = text_document[0:len(text_document)-1] #quita el ultimo espacio agregado al final d la cadena\n",
    "                data_list.append(text_document)\n",
    "            except (OSError, RuntimeError, TypeError, NameError, AttributeError):\n",
    "                    pass\n",
    "    \n",
    "                \n",
    "print ('NUMERO DE ELEMENTOS: ' + str(len(data_list)))\n",
    "print(data_list[:2])"
   ]
  },
  {
   "cell_type": "markdown",
   "metadata": {},
   "source": [
    "**II) Pre-procesamiento:** Para la etapa de pre-procesamiento se realizaron 4 actividades, a saber:"
   ]
  },
  {
   "cell_type": "markdown",
   "metadata": {},
   "source": [
    "* Tokenización: a partir del corpus obtenido se generaron los tokens usando la biblioteca NLTK (Natural Language Toolkit) mediante la invocación al método word_tokenize()."
   ]
  },
  {
   "cell_type": "code",
   "execution_count": 14,
   "metadata": {},
   "outputs": [],
   "source": [
    "import numpy as np\n",
    "import re, nltk\n",
    "#nltk.download('punkt')\n",
    "from nltk import word_tokenize\n",
    "from nltk.corpus import stopwords\n",
    "from string import ascii_lowercase\n",
    "import string\n",
    "\n",
    "#TOKENIZACION CON NLTK\n",
    "tokenized_data = []\n",
    "for sentence in data_list:\n",
    "    tokenized_data.append(word_tokenize(sentence.lower()))"
   ]
  },
  {
   "cell_type": "markdown",
   "metadata": {},
   "source": [
    "* Filtro de stopwords: la eliminación de stopwords se realiza chequeando el contenido del documento contra un listado disponible. Por lo tanto, se construyó una lista de stopwords con NLTK considerando, además de las stopwords que proporciona la propia biblioteca (para el idioma inglés), una serie de palabras propias del contexto, tales como: api, rest, service, http, url, entre otras."
   ]
  },
  {
   "cell_type": "code",
   "execution_count": 15,
   "metadata": {},
   "outputs": [
    {
     "name": "stdout",
     "output_type": "stream",
     "text": [
      "['stock forex realtime quotes quotes symbols symbols provide real-time quotes', 'strong authentication without passwords']\n"
     ]
    }
   ],
   "source": [
    "#ELIMINACION DE STOPWORDS\n",
    "#nltk.download('stopwords')\n",
    "stopwords = stopwords.words('english')\n",
    "stopwords.extend(['WWW','www','HTTP', 'http', 'HTTPS', 'https', 'api', 'API','apis', 'APIS', 'REST', 'rest','RESTfull',\n",
    "                  'RESTful', 'restfull', 'restful', 'service', 'services', 'user', 'users','get','post','put','delete',\n",
    "                  'request', 'response', 'url', 'URL', 'curl','token', 'json', 'crud', 'create', 'update', 'data',\n",
    "                  'code', 'list', 'tokens', 'urls','html', 'html5','yaml', 'httpclient','httprequest','httpresponse',\n",
    "                  'client','clients', 'lenguage', 'return', 'type']\n",
    "                  + list(ascii_lowercase))\n",
    "\n",
    "wordsFiltered=[]\n",
    "for sentence in tokenized_data:\n",
    "    sentences=[]\n",
    "    for word in sentence:\n",
    "        if word not in stopwords and word not in string.punctuation and re.match('[a-zA-Z\\\\-][a-zA-Z\\\\-]{3,12}', word):\n",
    "            sentences.append(word)\n",
    "    wordsFiltered.append(sentences)\n",
    "#print(wordsFiltered[:2])\n",
    "\n",
    "#ARMO UN SOLO DOC POR ARCHIVO\n",
    "new_data = []\n",
    "for words in wordsFiltered:\n",
    "    text = ' '.join(words)\n",
    "    new_data.append(text)\n",
    "print(new_data[:2])"
   ]
  },
  {
   "cell_type": "markdown",
   "metadata": {},
   "source": [
    "* Lematizacion: dado que SKLearn no trae ningún lematizador incorporado, se extendió la clase _CountVectorizer_ sobrescribiendo el método build\\_analyzer(), a fin de implementar el lematizador en cada documento del corpus."
   ]
  },
  {
   "cell_type": "code",
   "execution_count": 18,
   "metadata": {},
   "outputs": [],
   "source": [
    "from sklearn.feature_extraction.text import CountVectorizer\n",
    "from nltk.stem.wordnet import WordNetLemmatizer\n",
    "\n",
    "lemm = WordNetLemmatizer()\n",
    "class LemmaCountVectorizer(CountVectorizer):\n",
    "    def build_analyzer(self):\n",
    "        analyzer = super(LemmaCountVectorizer, self).build_analyzer()\n",
    "        return lambda doc: (lemm.lemmatize(w) for w in analyzer(doc))"
   ]
  },
  {
   "cell_type": "markdown",
   "metadata": {},
   "source": [
    "* Vectorización: aquí se inicializó un objeto de frecuencia de término a través de la función _CountVectorizer_ de SKLearn. En particular, el parámetro \"min_df\" se refiere a la frecuencia mínima (umbral) del documento y el vectorizador simplemente descarta todas las palabras que ocurran por debajo de ese valor umbral. Finalmente se aplica el método fit\\_transform() para transformar el texto sin formato a su forma vectorial (matriz de términos)."
   ]
  },
  {
   "cell_type": "code",
   "execution_count": 21,
   "metadata": {},
   "outputs": [
    {
     "name": "stdout",
     "output_type": "stream",
     "text": [
      "Las caracteristicas son: \n",
      "\n",
      " ['100', '_blank', 'abbreviation', 'ability', 'able', 'accept', 'accepted', 'accepts', 'access', 'access_token', 'accessed', 'accessible', 'accessing', 'accident', 'according', 'account', 'accounting', 'accounts_checknameavailability', 'accounts_createorupdate', 'accounts_delete', 'accounts_get', 'accounts_listbyresourcegroup', 'accurate', 'achieved', 'acknowledge', 'action', 'activate', 'activation', 'active', 'activity', 'add', 'added', 'addheader', 'adding', 'addition', 'additional', 'additionally', 'addon', 'address', 'adheres', 'adjustment', 'admin', 'administrate', 'administration', 'administrative', 'administrator', 'advanced', 'advertised', 'advisor', 'adyen', 'affected', 'affiliated', 'agency', 'agent', 'aggregate', 'aggregated', 'aggregation', 'agree', 'agreement', 'airline', 'airport', 'album', 'alert', 'alerting', 'algorithm', 'alias', 'allocation', 'allow', 'allowed', 'allowing', 'allows', 'alongside', 'alternative', 'alternatively', 'analysis', 'analytics', 'analyze', 'analyzer', 'analyzing', 'android', 'annotation', 'answer', 'api', 'apikey', 'apim', 'apis', 'appear', 'apple', 'applicable', 'application', 'applied', 'applies', 'apply', 'appointment', 'approach', 'appropriate', 'approval', 'approximately', 'apps', 'arbitrary']\n",
      "\n"
     ]
    }
   ],
   "source": [
    "#nltk.download('wordnet')\n",
    "tf_vectorizer = LemmaCountVectorizer(max_df=0.95, \n",
    "                                     min_df=2,\n",
    "                                     stop_words='english',\n",
    "                                     decode_error='ignore')\n",
    "data_vectorized = tf_vectorizer.fit_transform(new_data)\n",
    "\n",
    "print(\"Las caracteristicas son: \\n\\n {}\".format(tf_vectorizer.get_feature_names()[:100]) + \"\\n\")\n",
    "#print(data_vectorized.toarray())"
   ]
  },
  {
   "cell_type": "markdown",
   "metadata": {},
   "source": [
    "**III)- Construcción del modelo:** Para construir el modelo LDA en SKLearn, basta con crear una instancia  de la clase _LatentDirichletAllocation_ invocando al método LatentDirichletAllocation(). Afortunadamente, SKLearn ofrece una clase _GridSearchCV_ que se puede usar para realizar una búsqueda del mejor conjunto de parámetros a evaluar sobre el modelo. Esto simplifica el proceso de prueba y ajuste de los parámetros del modelo. Para este caso, los parámetros evaluados fueron:\n",
    "* n_components: [3, 5, 10, 15]\n",
    "* learning_decay: [.5, .7, .9]\n",
    "* max_iter: [10, 20, 30]"
   ]
  },
  {
   "cell_type": "code",
   "execution_count": 23,
   "metadata": {},
   "outputs": [
    {
     "data": {
      "text/plain": [
       "GridSearchCV(cv=None, error_score='raise',\n",
       "       estimator=LatentDirichletAllocation(batch_size=128, doc_topic_prior=None,\n",
       "             evaluate_every=-1, learning_decay=0.7, learning_method=None,\n",
       "             learning_offset=10.0, max_doc_update_iter=100, max_iter=10,\n",
       "             mean_change_tol=0.001, n_components=10, n_jobs=1,\n",
       "             n_topics=None, perp_tol=0.1, random_state=None,\n",
       "             topic_word_prior=None, total_samples=1000000.0, verbose=0),\n",
       "       fit_params={}, iid=True, n_jobs=1,\n",
       "       param_grid={'n_components': [3, 5, 10, 15], 'learning_decay': [0.5, 0.7, 0.9], 'max_iter': [10, 20, 30]},\n",
       "       pre_dispatch='2*n_jobs', refit=True, scoring=None, verbose=0)"
      ]
     },
     "execution_count": 23,
     "metadata": {},
     "output_type": "execute_result"
    }
   ],
   "source": [
    "from sklearn.decomposition import LatentDirichletAllocation\n",
    "from sklearn.grid_search import GridSearchCV\n",
    "import warnings\n",
    "warnings.simplefilter(action='ignore', category=DeprecationWarning)\n",
    "\n",
    "# Define Search Param\n",
    "search_params = {'n_components': [3, 5, 10, 15], 'learning_decay': [.5, .7, .9], 'max_iter':[10, 20, 30]}\n",
    "\n",
    "# Init the Model\n",
    "lda = LatentDirichletAllocation()\n",
    "\n",
    "# Init Grid Search Class\n",
    "model = GridSearchCV(lda, param_grid=search_params)\n",
    "\n",
    "# Do the Grid Search\n",
    "model.fit(data_vectorized)"
   ]
  },
  {
   "cell_type": "markdown",
   "metadata": {},
   "source": [
    "_GridSearchCV_ construye una cantidad de modelos LDA que es igual al número de combinaciones posibles entre los parámetros de búsqueda. El mejor modelo generado se puede obtener con el atributo best_estimator_, y con best_params_ tomamos los mejores parámetros del modelo LDA. Los resultados obtenidos fueron:"
   ]
  },
  {
   "cell_type": "code",
   "execution_count": 24,
   "metadata": {},
   "outputs": [
    {
     "name": "stdout",
     "output_type": "stream",
     "text": [
      "Mejores parametros para el modelo:  {'learning_decay': 0.9, 'max_iter': 10, 'n_components': 3}\n",
      "Log Likelihood Score:  -135016.50590655213\n",
      "Perplejidad del Modelo:  901.949118714994\n"
     ]
    }
   ],
   "source": [
    "# Best Model\n",
    "best_lda_model = model.best_estimator_\n",
    "\n",
    "# Model Parameters\n",
    "print(\"Mejores parametros para el modelo: \", model.best_params_)\n",
    "\n",
    "# Log Likelihood Score\n",
    "print(\"Log Likelihood Score: \", model.best_score_)\n",
    "\n",
    "# Perplexity\n",
    "print(\"Perplejidad del Modelo: \", best_lda_model.perplexity(data_vectorized))"
   ]
  },
  {
   "cell_type": "markdown",
   "metadata": {},
   "source": [
    "El gráfico que se muestra a continuación representa la elección óptima de los parámetros del modelo LDA. Para una ejecución de 30 iteraciones se observa como, a medida que el número de tópicos crece, el valor de la _Función de Verosimilitud_ (función de los parámetros de un modelo estadístico que permite realizar inferencias acerca de su valor a partir de un conjunto de observaciones), expresado en logaritmo, disminuye y la tasa de aprendizaje (controlada por learning_decay) se deteriora. _Perplexity_ es una métrica ampliamente usada en el modelado de tópicos para medir el grado de cohesión de una palabra dentro de un tópico. Claramente los mejores valores para el modelo son número de topicos= 3 y learning_decay= 0.9."
   ]
  },
  {
   "cell_type": "code",
   "execution_count": 27,
   "metadata": {},
   "outputs": [
    {
     "data": {
      "image/png": "[encoded data removed]",
      "text/plain": [
       "<Figure size 864x576 with 1 Axes>"
      ]
     },
     "metadata": {},
     "output_type": "display_data"
    }
   ],
   "source": [
    "from matplotlib.pyplot import *\n",
    "import matplotlib.pyplot as plt\n",
    "\n",
    "# Get Log Likelyhoods from Grid Search Output\n",
    "n_topics = [3, 5, 10, 15]\n",
    "log_likelyhoods_5 = [round(gscore.mean_validation_score) for gscore in model.grid_scores_ if (gscore.parameters['learning_decay']==0.5 and gscore.parameters['max_iter']==10)]\n",
    "log_likelyhoods_7 = [round(gscore.mean_validation_score) for gscore in model.grid_scores_ if (gscore.parameters['learning_decay']==0.7 and gscore.parameters['max_iter']==10)]\n",
    "log_likelyhoods_9 = [round(gscore.mean_validation_score) for gscore in model.grid_scores_ if (gscore.parameters['learning_decay']==0.9 and gscore.parameters['max_iter']==10)]\n",
    "\n",
    "# Show graph\n",
    "plt.figure(figsize=(12, 8))\n",
    "plt.plot(n_topics, np.array(log_likelyhoods_5), label='0.5')\n",
    "plt.plot(n_topics, np.array(log_likelyhoods_7), label='0.7')\n",
    "plt.plot(n_topics, np.array(log_likelyhoods_9), label='0.9')\n",
    "plt.title(\"Elección Optima del Modelo LDA\")\n",
    "#plt.xlim(xmin=0.0, xmax=15)\n",
    "plt.xlabel(\"Numero de Topicos\")\n",
    "plt.ylabel(\"Log Likelihood Score\")\n",
    "plt.legend(title='Deterioro del aprendizaje', loc='best')\n",
    "plt.show()"
   ]
  },
  {
   "cell_type": "markdown",
   "metadata": {},
   "source": [
    "**IV)- Identificación de Tópicos:** Para mostrar los tópicos, se definió una función que retorna las 30 palabras de cada tópico generados en el modelo LDA. Esta función recibe los siguientes parámetros:\n",
    "\n",
    "* best_lda_model: El mejor modelo obtenido con GridSearchCV.\n",
    "* tf_feature_names: Las características de la matriz de términos.\n",
    "* n_top_words: El número de palabras por tópico.\n"
   ]
  },
  {
   "cell_type": "code",
   "execution_count": 28,
   "metadata": {},
   "outputs": [],
   "source": [
    "def print_top_words(model, feature_names, n_top_words):\n",
    "    for index, topic in enumerate(model.components_):\n",
    "        message = \"\\nTopic #{}:\".format(index)\n",
    "        message += \" \".join([feature_names[i] for i in topic.argsort()[:-n_top_words - 1 :-1]])\n",
    "        print(message)\n",
    "        print(\"=\"*90)"
   ]
  },
  {
   "cell_type": "markdown",
   "metadata": {},
   "source": [
    "Los tópicos detectados se muestran a continuación:"
   ]
  },
  {
   "cell_type": "code",
   "execution_count": 29,
   "metadata": {},
   "outputs": [
    {
     "name": "stdout",
     "output_type": "stream",
     "text": [
      "\n",
      "Topics in LDA model: \n",
      "\n",
      "Topic #0:specified get account information group given fabric project item return retrieve specific resource node application report schedule detail product version operation existing associated update date template available file cluster deletes access player endpoint oauth container\n",
      "==========================================================================================\n",
      "\n",
      "Topic #1:subscription operation item entity retrieve version event preview revenue plan invoice tenant resume object azure account oauth billing network cancel period product resource adjustment accounting multi provides renew access microsoft test minor usage field production\n",
      "==========================================================================================\n",
      "\n",
      "Topic #2:invoice payment revenue credit schedule order field method charge account item version minor refund number cancel specify header entry journal parameter multi href accounting product information rate authentication target send following summary oauth suspend access\n",
      "==========================================================================================\n"
     ]
    }
   ],
   "source": [
    "n_top_words = 35\n",
    "print(\"\\nTopics in LDA model: \")\n",
    "tf_feature_names = tf_vectorizer.get_feature_names()\n",
    "print_top_words(best_lda_model, tf_feature_names, n_top_words)"
   ]
  },
  {
   "cell_type": "markdown",
   "metadata": {},
   "source": [
    "**Visualizacion de Topicos Dominantes por Documento:** Para clasificar un documento como perteneciente a un tópico en particular, el enfoque usado es ver qué tópico tiene la mayor contribución a ese documento y asignarlo. En la siguiente tabla se listan los primeros 20 documentos junto con la proporción de contribución a cada tópico. El tópico predominante (marcado con color rojo) se detalla aparte en su propia columna."
   ]
  },
  {
   "cell_type": "code",
   "execution_count": 31,
   "metadata": {},
   "outputs": [
    {
     "data": {
      "text/html": [
       "<style  type=\"text/css\" >\n",
       "    #T_06710f62_a655_11e8_bcf0_780cb89239b5row0_col0 {\n",
       "            color:  red;\n",
       "            font-weight:  700;\n",
       "        }    #T_06710f62_a655_11e8_bcf0_780cb89239b5row0_col1 {\n",
       "            color:  black;\n",
       "            font-weight:  400;\n",
       "        }    #T_06710f62_a655_11e8_bcf0_780cb89239b5row0_col2 {\n",
       "            color:  red;\n",
       "            font-weight:  700;\n",
       "        }    #T_06710f62_a655_11e8_bcf0_780cb89239b5row0_col3 {\n",
       "            color:  red;\n",
       "            font-weight:  700;\n",
       "        }    #T_06710f62_a655_11e8_bcf0_780cb89239b5row1_col0 {\n",
       "            color:  black;\n",
       "            font-weight:  400;\n",
       "        }    #T_06710f62_a655_11e8_bcf0_780cb89239b5row1_col1 {\n",
       "            color:  black;\n",
       "            font-weight:  400;\n",
       "        }    #T_06710f62_a655_11e8_bcf0_780cb89239b5row1_col2 {\n",
       "            color:  red;\n",
       "            font-weight:  700;\n",
       "        }    #T_06710f62_a655_11e8_bcf0_780cb89239b5row1_col3 {\n",
       "            color:  red;\n",
       "            font-weight:  700;\n",
       "        }    #T_06710f62_a655_11e8_bcf0_780cb89239b5row2_col0 {\n",
       "            color:  red;\n",
       "            font-weight:  700;\n",
       "        }    #T_06710f62_a655_11e8_bcf0_780cb89239b5row2_col1 {\n",
       "            color:  black;\n",
       "            font-weight:  400;\n",
       "        }    #T_06710f62_a655_11e8_bcf0_780cb89239b5row2_col2 {\n",
       "            color:  red;\n",
       "            font-weight:  700;\n",
       "        }    #T_06710f62_a655_11e8_bcf0_780cb89239b5row2_col3 {\n",
       "            color:  black;\n",
       "            font-weight:  400;\n",
       "        }    #T_06710f62_a655_11e8_bcf0_780cb89239b5row3_col0 {\n",
       "            color:  red;\n",
       "            font-weight:  700;\n",
       "        }    #T_06710f62_a655_11e8_bcf0_780cb89239b5row3_col1 {\n",
       "            color:  black;\n",
       "            font-weight:  400;\n",
       "        }    #T_06710f62_a655_11e8_bcf0_780cb89239b5row3_col2 {\n",
       "            color:  black;\n",
       "            font-weight:  400;\n",
       "        }    #T_06710f62_a655_11e8_bcf0_780cb89239b5row3_col3 {\n",
       "            color:  black;\n",
       "            font-weight:  400;\n",
       "        }    #T_06710f62_a655_11e8_bcf0_780cb89239b5row4_col0 {\n",
       "            color:  red;\n",
       "            font-weight:  700;\n",
       "        }    #T_06710f62_a655_11e8_bcf0_780cb89239b5row4_col1 {\n",
       "            color:  black;\n",
       "            font-weight:  400;\n",
       "        }    #T_06710f62_a655_11e8_bcf0_780cb89239b5row4_col2 {\n",
       "            color:  red;\n",
       "            font-weight:  700;\n",
       "        }    #T_06710f62_a655_11e8_bcf0_780cb89239b5row4_col3 {\n",
       "            color:  red;\n",
       "            font-weight:  700;\n",
       "        }    #T_06710f62_a655_11e8_bcf0_780cb89239b5row5_col0 {\n",
       "            color:  red;\n",
       "            font-weight:  700;\n",
       "        }    #T_06710f62_a655_11e8_bcf0_780cb89239b5row5_col1 {\n",
       "            color:  black;\n",
       "            font-weight:  400;\n",
       "        }    #T_06710f62_a655_11e8_bcf0_780cb89239b5row5_col2 {\n",
       "            color:  red;\n",
       "            font-weight:  700;\n",
       "        }    #T_06710f62_a655_11e8_bcf0_780cb89239b5row5_col3 {\n",
       "            color:  red;\n",
       "            font-weight:  700;\n",
       "        }    #T_06710f62_a655_11e8_bcf0_780cb89239b5row6_col0 {\n",
       "            color:  red;\n",
       "            font-weight:  700;\n",
       "        }    #T_06710f62_a655_11e8_bcf0_780cb89239b5row6_col1 {\n",
       "            color:  black;\n",
       "            font-weight:  400;\n",
       "        }    #T_06710f62_a655_11e8_bcf0_780cb89239b5row6_col2 {\n",
       "            color:  red;\n",
       "            font-weight:  700;\n",
       "        }    #T_06710f62_a655_11e8_bcf0_780cb89239b5row6_col3 {\n",
       "            color:  red;\n",
       "            font-weight:  700;\n",
       "        }    #T_06710f62_a655_11e8_bcf0_780cb89239b5row7_col0 {\n",
       "            color:  black;\n",
       "            font-weight:  400;\n",
       "        }    #T_06710f62_a655_11e8_bcf0_780cb89239b5row7_col1 {\n",
       "            color:  black;\n",
       "            font-weight:  400;\n",
       "        }    #T_06710f62_a655_11e8_bcf0_780cb89239b5row7_col2 {\n",
       "            color:  red;\n",
       "            font-weight:  700;\n",
       "        }    #T_06710f62_a655_11e8_bcf0_780cb89239b5row7_col3 {\n",
       "            color:  red;\n",
       "            font-weight:  700;\n",
       "        }    #T_06710f62_a655_11e8_bcf0_780cb89239b5row8_col0 {\n",
       "            color:  black;\n",
       "            font-weight:  400;\n",
       "        }    #T_06710f62_a655_11e8_bcf0_780cb89239b5row8_col1 {\n",
       "            color:  black;\n",
       "            font-weight:  400;\n",
       "        }    #T_06710f62_a655_11e8_bcf0_780cb89239b5row8_col2 {\n",
       "            color:  red;\n",
       "            font-weight:  700;\n",
       "        }    #T_06710f62_a655_11e8_bcf0_780cb89239b5row8_col3 {\n",
       "            color:  red;\n",
       "            font-weight:  700;\n",
       "        }    #T_06710f62_a655_11e8_bcf0_780cb89239b5row9_col0 {\n",
       "            color:  red;\n",
       "            font-weight:  700;\n",
       "        }    #T_06710f62_a655_11e8_bcf0_780cb89239b5row9_col1 {\n",
       "            color:  black;\n",
       "            font-weight:  400;\n",
       "        }    #T_06710f62_a655_11e8_bcf0_780cb89239b5row9_col2 {\n",
       "            color:  red;\n",
       "            font-weight:  700;\n",
       "        }    #T_06710f62_a655_11e8_bcf0_780cb89239b5row9_col3 {\n",
       "            color:  black;\n",
       "            font-weight:  400;\n",
       "        }    #T_06710f62_a655_11e8_bcf0_780cb89239b5row10_col0 {\n",
       "            color:  red;\n",
       "            font-weight:  700;\n",
       "        }    #T_06710f62_a655_11e8_bcf0_780cb89239b5row10_col1 {\n",
       "            color:  black;\n",
       "            font-weight:  400;\n",
       "        }    #T_06710f62_a655_11e8_bcf0_780cb89239b5row10_col2 {\n",
       "            color:  red;\n",
       "            font-weight:  700;\n",
       "        }    #T_06710f62_a655_11e8_bcf0_780cb89239b5row10_col3 {\n",
       "            color:  black;\n",
       "            font-weight:  400;\n",
       "        }    #T_06710f62_a655_11e8_bcf0_780cb89239b5row11_col0 {\n",
       "            color:  red;\n",
       "            font-weight:  700;\n",
       "        }    #T_06710f62_a655_11e8_bcf0_780cb89239b5row11_col1 {\n",
       "            color:  red;\n",
       "            font-weight:  700;\n",
       "        }    #T_06710f62_a655_11e8_bcf0_780cb89239b5row11_col2 {\n",
       "            color:  red;\n",
       "            font-weight:  700;\n",
       "        }    #T_06710f62_a655_11e8_bcf0_780cb89239b5row11_col3 {\n",
       "            color:  black;\n",
       "            font-weight:  400;\n",
       "        }    #T_06710f62_a655_11e8_bcf0_780cb89239b5row12_col0 {\n",
       "            color:  red;\n",
       "            font-weight:  700;\n",
       "        }    #T_06710f62_a655_11e8_bcf0_780cb89239b5row12_col1 {\n",
       "            color:  black;\n",
       "            font-weight:  400;\n",
       "        }    #T_06710f62_a655_11e8_bcf0_780cb89239b5row12_col2 {\n",
       "            color:  black;\n",
       "            font-weight:  400;\n",
       "        }    #T_06710f62_a655_11e8_bcf0_780cb89239b5row12_col3 {\n",
       "            color:  black;\n",
       "            font-weight:  400;\n",
       "        }    #T_06710f62_a655_11e8_bcf0_780cb89239b5row13_col0 {\n",
       "            color:  red;\n",
       "            font-weight:  700;\n",
       "        }    #T_06710f62_a655_11e8_bcf0_780cb89239b5row13_col1 {\n",
       "            color:  black;\n",
       "            font-weight:  400;\n",
       "        }    #T_06710f62_a655_11e8_bcf0_780cb89239b5row13_col2 {\n",
       "            color:  red;\n",
       "            font-weight:  700;\n",
       "        }    #T_06710f62_a655_11e8_bcf0_780cb89239b5row13_col3 {\n",
       "            color:  black;\n",
       "            font-weight:  400;\n",
       "        }    #T_06710f62_a655_11e8_bcf0_780cb89239b5row14_col0 {\n",
       "            color:  red;\n",
       "            font-weight:  700;\n",
       "        }    #T_06710f62_a655_11e8_bcf0_780cb89239b5row14_col1 {\n",
       "            color:  black;\n",
       "            font-weight:  400;\n",
       "        }    #T_06710f62_a655_11e8_bcf0_780cb89239b5row14_col2 {\n",
       "            color:  black;\n",
       "            font-weight:  400;\n",
       "        }    #T_06710f62_a655_11e8_bcf0_780cb89239b5row14_col3 {\n",
       "            color:  black;\n",
       "            font-weight:  400;\n",
       "        }    #T_06710f62_a655_11e8_bcf0_780cb89239b5row15_col0 {\n",
       "            color:  red;\n",
       "            font-weight:  700;\n",
       "        }    #T_06710f62_a655_11e8_bcf0_780cb89239b5row15_col1 {\n",
       "            color:  black;\n",
       "            font-weight:  400;\n",
       "        }    #T_06710f62_a655_11e8_bcf0_780cb89239b5row15_col2 {\n",
       "            color:  black;\n",
       "            font-weight:  400;\n",
       "        }    #T_06710f62_a655_11e8_bcf0_780cb89239b5row15_col3 {\n",
       "            color:  black;\n",
       "            font-weight:  400;\n",
       "        }    #T_06710f62_a655_11e8_bcf0_780cb89239b5row16_col0 {\n",
       "            color:  red;\n",
       "            font-weight:  700;\n",
       "        }    #T_06710f62_a655_11e8_bcf0_780cb89239b5row16_col1 {\n",
       "            color:  black;\n",
       "            font-weight:  400;\n",
       "        }    #T_06710f62_a655_11e8_bcf0_780cb89239b5row16_col2 {\n",
       "            color:  black;\n",
       "            font-weight:  400;\n",
       "        }    #T_06710f62_a655_11e8_bcf0_780cb89239b5row16_col3 {\n",
       "            color:  black;\n",
       "            font-weight:  400;\n",
       "        }    #T_06710f62_a655_11e8_bcf0_780cb89239b5row17_col0 {\n",
       "            color:  red;\n",
       "            font-weight:  700;\n",
       "        }    #T_06710f62_a655_11e8_bcf0_780cb89239b5row17_col1 {\n",
       "            color:  black;\n",
       "            font-weight:  400;\n",
       "        }    #T_06710f62_a655_11e8_bcf0_780cb89239b5row17_col2 {\n",
       "            color:  red;\n",
       "            font-weight:  700;\n",
       "        }    #T_06710f62_a655_11e8_bcf0_780cb89239b5row17_col3 {\n",
       "            color:  red;\n",
       "            font-weight:  700;\n",
       "        }    #T_06710f62_a655_11e8_bcf0_780cb89239b5row18_col0 {\n",
       "            color:  red;\n",
       "            font-weight:  700;\n",
       "        }    #T_06710f62_a655_11e8_bcf0_780cb89239b5row18_col1 {\n",
       "            color:  red;\n",
       "            font-weight:  700;\n",
       "        }    #T_06710f62_a655_11e8_bcf0_780cb89239b5row18_col2 {\n",
       "            color:  red;\n",
       "            font-weight:  700;\n",
       "        }    #T_06710f62_a655_11e8_bcf0_780cb89239b5row18_col3 {\n",
       "            color:  black;\n",
       "            font-weight:  400;\n",
       "        }    #T_06710f62_a655_11e8_bcf0_780cb89239b5row19_col0 {\n",
       "            color:  red;\n",
       "            font-weight:  700;\n",
       "        }    #T_06710f62_a655_11e8_bcf0_780cb89239b5row19_col1 {\n",
       "            color:  black;\n",
       "            font-weight:  400;\n",
       "        }    #T_06710f62_a655_11e8_bcf0_780cb89239b5row19_col2 {\n",
       "            color:  red;\n",
       "            font-weight:  700;\n",
       "        }    #T_06710f62_a655_11e8_bcf0_780cb89239b5row19_col3 {\n",
       "            color:  black;\n",
       "            font-weight:  400;\n",
       "        }</style>  \n",
       "<table id=\"T_06710f62_a655_11e8_bcf0_780cb89239b5\" > \n",
       "<thead>    <tr> \n",
       "        <th class=\"blank level0\" ></th> \n",
       "        <th class=\"col_heading level0 col0\" >Topic0</th> \n",
       "        <th class=\"col_heading level0 col1\" >Topic1</th> \n",
       "        <th class=\"col_heading level0 col2\" >Topic2</th> \n",
       "        <th class=\"col_heading level0 col3\" >Topic_dom</th> \n",
       "    </tr></thead> \n",
       "<tbody>    <tr> \n",
       "        <th id=\"T_06710f62_a655_11e8_bcf0_780cb89239b5level0_row0\" class=\"row_heading level0 row0\" >Doc0</th> \n",
       "        <td id=\"T_06710f62_a655_11e8_bcf0_780cb89239b5row0_col0\" class=\"data row0 col0\" >0.4</td> \n",
       "        <td id=\"T_06710f62_a655_11e8_bcf0_780cb89239b5row0_col1\" class=\"data row0 col1\" >0.03</td> \n",
       "        <td id=\"T_06710f62_a655_11e8_bcf0_780cb89239b5row0_col2\" class=\"data row0 col2\" >0.57</td> \n",
       "        <td id=\"T_06710f62_a655_11e8_bcf0_780cb89239b5row0_col3\" class=\"data row0 col3\" >2</td> \n",
       "    </tr>    <tr> \n",
       "        <th id=\"T_06710f62_a655_11e8_bcf0_780cb89239b5level0_row1\" class=\"row_heading level0 row1\" >Doc1</th> \n",
       "        <td id=\"T_06710f62_a655_11e8_bcf0_780cb89239b5row1_col0\" class=\"data row1 col0\" >0.09</td> \n",
       "        <td id=\"T_06710f62_a655_11e8_bcf0_780cb89239b5row1_col1\" class=\"data row1 col1\" >0.09</td> \n",
       "        <td id=\"T_06710f62_a655_11e8_bcf0_780cb89239b5row1_col2\" class=\"data row1 col2\" >0.82</td> \n",
       "        <td id=\"T_06710f62_a655_11e8_bcf0_780cb89239b5row1_col3\" class=\"data row1 col3\" >2</td> \n",
       "    </tr>    <tr> \n",
       "        <th id=\"T_06710f62_a655_11e8_bcf0_780cb89239b5level0_row2\" class=\"row_heading level0 row2\" >Doc2</th> \n",
       "        <td id=\"T_06710f62_a655_11e8_bcf0_780cb89239b5row2_col0\" class=\"data row2 col0\" >0.89</td> \n",
       "        <td id=\"T_06710f62_a655_11e8_bcf0_780cb89239b5row2_col1\" class=\"data row2 col1\" >0</td> \n",
       "        <td id=\"T_06710f62_a655_11e8_bcf0_780cb89239b5row2_col2\" class=\"data row2 col2\" >0.11</td> \n",
       "        <td id=\"T_06710f62_a655_11e8_bcf0_780cb89239b5row2_col3\" class=\"data row2 col3\" >0</td> \n",
       "    </tr>    <tr> \n",
       "        <th id=\"T_06710f62_a655_11e8_bcf0_780cb89239b5level0_row3\" class=\"row_heading level0 row3\" >Doc3</th> \n",
       "        <td id=\"T_06710f62_a655_11e8_bcf0_780cb89239b5row3_col0\" class=\"data row3 col0\" >0.89</td> \n",
       "        <td id=\"T_06710f62_a655_11e8_bcf0_780cb89239b5row3_col1\" class=\"data row3 col1\" >0.06</td> \n",
       "        <td id=\"T_06710f62_a655_11e8_bcf0_780cb89239b5row3_col2\" class=\"data row3 col2\" >0.06</td> \n",
       "        <td id=\"T_06710f62_a655_11e8_bcf0_780cb89239b5row3_col3\" class=\"data row3 col3\" >0</td> \n",
       "    </tr>    <tr> \n",
       "        <th id=\"T_06710f62_a655_11e8_bcf0_780cb89239b5level0_row4\" class=\"row_heading level0 row4\" >Doc4</th> \n",
       "        <td id=\"T_06710f62_a655_11e8_bcf0_780cb89239b5row4_col0\" class=\"data row4 col0\" >0.26</td> \n",
       "        <td id=\"T_06710f62_a655_11e8_bcf0_780cb89239b5row4_col1\" class=\"data row4 col1\" >0.01</td> \n",
       "        <td id=\"T_06710f62_a655_11e8_bcf0_780cb89239b5row4_col2\" class=\"data row4 col2\" >0.73</td> \n",
       "        <td id=\"T_06710f62_a655_11e8_bcf0_780cb89239b5row4_col3\" class=\"data row4 col3\" >2</td> \n",
       "    </tr>    <tr> \n",
       "        <th id=\"T_06710f62_a655_11e8_bcf0_780cb89239b5level0_row5\" class=\"row_heading level0 row5\" >Doc5</th> \n",
       "        <td id=\"T_06710f62_a655_11e8_bcf0_780cb89239b5row5_col0\" class=\"data row5 col0\" >0.26</td> \n",
       "        <td id=\"T_06710f62_a655_11e8_bcf0_780cb89239b5row5_col1\" class=\"data row5 col1\" >0.01</td> \n",
       "        <td id=\"T_06710f62_a655_11e8_bcf0_780cb89239b5row5_col2\" class=\"data row5 col2\" >0.73</td> \n",
       "        <td id=\"T_06710f62_a655_11e8_bcf0_780cb89239b5row5_col3\" class=\"data row5 col3\" >2</td> \n",
       "    </tr>    <tr> \n",
       "        <th id=\"T_06710f62_a655_11e8_bcf0_780cb89239b5level0_row6\" class=\"row_heading level0 row6\" >Doc6</th> \n",
       "        <td id=\"T_06710f62_a655_11e8_bcf0_780cb89239b5row6_col0\" class=\"data row6 col0\" >0.26</td> \n",
       "        <td id=\"T_06710f62_a655_11e8_bcf0_780cb89239b5row6_col1\" class=\"data row6 col1\" >0.01</td> \n",
       "        <td id=\"T_06710f62_a655_11e8_bcf0_780cb89239b5row6_col2\" class=\"data row6 col2\" >0.73</td> \n",
       "        <td id=\"T_06710f62_a655_11e8_bcf0_780cb89239b5row6_col3\" class=\"data row6 col3\" >2</td> \n",
       "    </tr>    <tr> \n",
       "        <th id=\"T_06710f62_a655_11e8_bcf0_780cb89239b5level0_row7\" class=\"row_heading level0 row7\" >Doc7</th> \n",
       "        <td id=\"T_06710f62_a655_11e8_bcf0_780cb89239b5row7_col0\" class=\"data row7 col0\" >0.07</td> \n",
       "        <td id=\"T_06710f62_a655_11e8_bcf0_780cb89239b5row7_col1\" class=\"data row7 col1\" >0.01</td> \n",
       "        <td id=\"T_06710f62_a655_11e8_bcf0_780cb89239b5row7_col2\" class=\"data row7 col2\" >0.92</td> \n",
       "        <td id=\"T_06710f62_a655_11e8_bcf0_780cb89239b5row7_col3\" class=\"data row7 col3\" >2</td> \n",
       "    </tr>    <tr> \n",
       "        <th id=\"T_06710f62_a655_11e8_bcf0_780cb89239b5level0_row8\" class=\"row_heading level0 row8\" >Doc8</th> \n",
       "        <td id=\"T_06710f62_a655_11e8_bcf0_780cb89239b5row8_col0\" class=\"data row8 col0\" >0.07</td> \n",
       "        <td id=\"T_06710f62_a655_11e8_bcf0_780cb89239b5row8_col1\" class=\"data row8 col1\" >0.01</td> \n",
       "        <td id=\"T_06710f62_a655_11e8_bcf0_780cb89239b5row8_col2\" class=\"data row8 col2\" >0.92</td> \n",
       "        <td id=\"T_06710f62_a655_11e8_bcf0_780cb89239b5row8_col3\" class=\"data row8 col3\" >2</td> \n",
       "    </tr>    <tr> \n",
       "        <th id=\"T_06710f62_a655_11e8_bcf0_780cb89239b5level0_row9\" class=\"row_heading level0 row9\" >Doc9</th> \n",
       "        <td id=\"T_06710f62_a655_11e8_bcf0_780cb89239b5row9_col0\" class=\"data row9 col0\" >0.51</td> \n",
       "        <td id=\"T_06710f62_a655_11e8_bcf0_780cb89239b5row9_col1\" class=\"data row9 col1\" >0.02</td> \n",
       "        <td id=\"T_06710f62_a655_11e8_bcf0_780cb89239b5row9_col2\" class=\"data row9 col2\" >0.47</td> \n",
       "        <td id=\"T_06710f62_a655_11e8_bcf0_780cb89239b5row9_col3\" class=\"data row9 col3\" >0</td> \n",
       "    </tr>    <tr> \n",
       "        <th id=\"T_06710f62_a655_11e8_bcf0_780cb89239b5level0_row10\" class=\"row_heading level0 row10\" >Doc10</th> \n",
       "        <td id=\"T_06710f62_a655_11e8_bcf0_780cb89239b5row10_col0\" class=\"data row10 col0\" >0.51</td> \n",
       "        <td id=\"T_06710f62_a655_11e8_bcf0_780cb89239b5row10_col1\" class=\"data row10 col1\" >0.02</td> \n",
       "        <td id=\"T_06710f62_a655_11e8_bcf0_780cb89239b5row10_col2\" class=\"data row10 col2\" >0.47</td> \n",
       "        <td id=\"T_06710f62_a655_11e8_bcf0_780cb89239b5row10_col3\" class=\"data row10 col3\" >0</td> \n",
       "    </tr>    <tr> \n",
       "        <th id=\"T_06710f62_a655_11e8_bcf0_780cb89239b5level0_row11\" class=\"row_heading level0 row11\" >Doc11</th> \n",
       "        <td id=\"T_06710f62_a655_11e8_bcf0_780cb89239b5row11_col0\" class=\"data row11 col0\" >0.72</td> \n",
       "        <td id=\"T_06710f62_a655_11e8_bcf0_780cb89239b5row11_col1\" class=\"data row11 col1\" >0.13</td> \n",
       "        <td id=\"T_06710f62_a655_11e8_bcf0_780cb89239b5row11_col2\" class=\"data row11 col2\" >0.15</td> \n",
       "        <td id=\"T_06710f62_a655_11e8_bcf0_780cb89239b5row11_col3\" class=\"data row11 col3\" >0</td> \n",
       "    </tr>    <tr> \n",
       "        <th id=\"T_06710f62_a655_11e8_bcf0_780cb89239b5level0_row12\" class=\"row_heading level0 row12\" >Doc12</th> \n",
       "        <td id=\"T_06710f62_a655_11e8_bcf0_780cb89239b5row12_col0\" class=\"data row12 col0\" >0.94</td> \n",
       "        <td id=\"T_06710f62_a655_11e8_bcf0_780cb89239b5row12_col1\" class=\"data row12 col1\" >0.05</td> \n",
       "        <td id=\"T_06710f62_a655_11e8_bcf0_780cb89239b5row12_col2\" class=\"data row12 col2\" >0</td> \n",
       "        <td id=\"T_06710f62_a655_11e8_bcf0_780cb89239b5row12_col3\" class=\"data row12 col3\" >0</td> \n",
       "    </tr>    <tr> \n",
       "        <th id=\"T_06710f62_a655_11e8_bcf0_780cb89239b5level0_row13\" class=\"row_heading level0 row13\" >Doc13</th> \n",
       "        <td id=\"T_06710f62_a655_11e8_bcf0_780cb89239b5row13_col0\" class=\"data row13 col0\" >0.65</td> \n",
       "        <td id=\"T_06710f62_a655_11e8_bcf0_780cb89239b5row13_col1\" class=\"data row13 col1\" >0.06</td> \n",
       "        <td id=\"T_06710f62_a655_11e8_bcf0_780cb89239b5row13_col2\" class=\"data row13 col2\" >0.29</td> \n",
       "        <td id=\"T_06710f62_a655_11e8_bcf0_780cb89239b5row13_col3\" class=\"data row13 col3\" >0</td> \n",
       "    </tr>    <tr> \n",
       "        <th id=\"T_06710f62_a655_11e8_bcf0_780cb89239b5level0_row14\" class=\"row_heading level0 row14\" >Doc14</th> \n",
       "        <td id=\"T_06710f62_a655_11e8_bcf0_780cb89239b5row14_col0\" class=\"data row14 col0\" >1</td> \n",
       "        <td id=\"T_06710f62_a655_11e8_bcf0_780cb89239b5row14_col1\" class=\"data row14 col1\" >0</td> \n",
       "        <td id=\"T_06710f62_a655_11e8_bcf0_780cb89239b5row14_col2\" class=\"data row14 col2\" >0</td> \n",
       "        <td id=\"T_06710f62_a655_11e8_bcf0_780cb89239b5row14_col3\" class=\"data row14 col3\" >0</td> \n",
       "    </tr>    <tr> \n",
       "        <th id=\"T_06710f62_a655_11e8_bcf0_780cb89239b5level0_row15\" class=\"row_heading level0 row15\" >Doc15</th> \n",
       "        <td id=\"T_06710f62_a655_11e8_bcf0_780cb89239b5row15_col0\" class=\"data row15 col0\" >0.95</td> \n",
       "        <td id=\"T_06710f62_a655_11e8_bcf0_780cb89239b5row15_col1\" class=\"data row15 col1\" >0.05</td> \n",
       "        <td id=\"T_06710f62_a655_11e8_bcf0_780cb89239b5row15_col2\" class=\"data row15 col2\" >0</td> \n",
       "        <td id=\"T_06710f62_a655_11e8_bcf0_780cb89239b5row15_col3\" class=\"data row15 col3\" >0</td> \n",
       "    </tr>    <tr> \n",
       "        <th id=\"T_06710f62_a655_11e8_bcf0_780cb89239b5level0_row16\" class=\"row_heading level0 row16\" >Doc16</th> \n",
       "        <td id=\"T_06710f62_a655_11e8_bcf0_780cb89239b5row16_col0\" class=\"data row16 col0\" >0.97</td> \n",
       "        <td id=\"T_06710f62_a655_11e8_bcf0_780cb89239b5row16_col1\" class=\"data row16 col1\" >0.01</td> \n",
       "        <td id=\"T_06710f62_a655_11e8_bcf0_780cb89239b5row16_col2\" class=\"data row16 col2\" >0.02</td> \n",
       "        <td id=\"T_06710f62_a655_11e8_bcf0_780cb89239b5row16_col3\" class=\"data row16 col3\" >0</td> \n",
       "    </tr>    <tr> \n",
       "        <th id=\"T_06710f62_a655_11e8_bcf0_780cb89239b5level0_row17\" class=\"row_heading level0 row17\" >Doc17</th> \n",
       "        <td id=\"T_06710f62_a655_11e8_bcf0_780cb89239b5row17_col0\" class=\"data row17 col0\" >0.43</td> \n",
       "        <td id=\"T_06710f62_a655_11e8_bcf0_780cb89239b5row17_col1\" class=\"data row17 col1\" >0</td> \n",
       "        <td id=\"T_06710f62_a655_11e8_bcf0_780cb89239b5row17_col2\" class=\"data row17 col2\" >0.57</td> \n",
       "        <td id=\"T_06710f62_a655_11e8_bcf0_780cb89239b5row17_col3\" class=\"data row17 col3\" >2</td> \n",
       "    </tr>    <tr> \n",
       "        <th id=\"T_06710f62_a655_11e8_bcf0_780cb89239b5level0_row18\" class=\"row_heading level0 row18\" >Doc18</th> \n",
       "        <td id=\"T_06710f62_a655_11e8_bcf0_780cb89239b5row18_col0\" class=\"data row18 col0\" >0.33</td> \n",
       "        <td id=\"T_06710f62_a655_11e8_bcf0_780cb89239b5row18_col1\" class=\"data row18 col1\" >0.33</td> \n",
       "        <td id=\"T_06710f62_a655_11e8_bcf0_780cb89239b5row18_col2\" class=\"data row18 col2\" >0.33</td> \n",
       "        <td id=\"T_06710f62_a655_11e8_bcf0_780cb89239b5row18_col3\" class=\"data row18 col3\" >0</td> \n",
       "    </tr>    <tr> \n",
       "        <th id=\"T_06710f62_a655_11e8_bcf0_780cb89239b5level0_row19\" class=\"row_heading level0 row19\" >Doc19</th> \n",
       "        <td id=\"T_06710f62_a655_11e8_bcf0_780cb89239b5row19_col0\" class=\"data row19 col0\" >0.82</td> \n",
       "        <td id=\"T_06710f62_a655_11e8_bcf0_780cb89239b5row19_col1\" class=\"data row19 col1\" >0.04</td> \n",
       "        <td id=\"T_06710f62_a655_11e8_bcf0_780cb89239b5row19_col2\" class=\"data row19 col2\" >0.14</td> \n",
       "        <td id=\"T_06710f62_a655_11e8_bcf0_780cb89239b5row19_col3\" class=\"data row19 col3\" >0</td> \n",
       "    </tr></tbody> \n",
       "</table> "
      ],
      "text/plain": [
       "<pandas.io.formats.style.Styler at 0x7be70d0>"
      ]
     },
     "execution_count": 31,
     "metadata": {},
     "output_type": "execute_result"
    }
   ],
   "source": [
    "import warnings\n",
    "warnings.simplefilter(action='ignore', category=FutureWarning)\n",
    "import pandas as pd\n",
    "import numpy as np\n",
    "\n",
    "# Create Document - Topic Matrix\n",
    "lda_output = best_lda_model.transform(data_vectorized)\n",
    "\n",
    "# column names\n",
    "topicnames = ['Topic' + str(i) for i in range(best_lda_model.n_components)]\n",
    "\n",
    "# index names\n",
    "docnames = ['Doc' + str(i) for i in range(len(new_data))]\n",
    "\n",
    "# Make the pandas dataframe\n",
    "df_document_topic = pd.DataFrame(np.round(lda_output, 2), columns=topicnames, index=docnames)\n",
    "\n",
    "# Get dominant topic for each document\n",
    "dominant_topic = np.argmax(df_document_topic.values, axis=1)\n",
    "df_document_topic['Topic_dom'] = dominant_topic\n",
    "\n",
    "# Styling\n",
    "def color_green(val):\n",
    "    color = 'red' if val > .1 else 'black'\n",
    "    return 'color: {col}'.format(col=color)\n",
    "\n",
    "def make_bold(val):\n",
    "    weight = 700 if val > .1 else 400\n",
    "    return 'font-weight: {weight}'.format(weight=weight)\n",
    "\n",
    "# Apply Style\n",
    "df_document_topics = df_document_topic.head(20).style.applymap(color_green).applymap(make_bold)\n",
    "df_document_topics"
   ]
  },
  {
   "cell_type": "markdown",
   "metadata": {},
   "source": [
    "**Número de documentos por tópico:** Finalmente, haciendo una distribución cruzada de los datos se obtiene el número de documentos en los que aparece un determinado topico."
   ]
  },
  {
   "cell_type": "code",
   "execution_count": 32,
   "metadata": {},
   "outputs": [
    {
     "data": {
      "text/html": [
       "<div>\n",
       "<style scoped>\n",
       "    .dataframe tbody tr th:only-of-type {\n",
       "        vertical-align: middle;\n",
       "    }\n",
       "\n",
       "    .dataframe tbody tr th {\n",
       "        vertical-align: top;\n",
       "    }\n",
       "\n",
       "    .dataframe thead th {\n",
       "        text-align: right;\n",
       "    }\n",
       "</style>\n",
       "<table border=\"1\" class=\"dataframe\">\n",
       "  <thead>\n",
       "    <tr style=\"text-align: right;\">\n",
       "      <th></th>\n",
       "      <th>Topico Num</th>\n",
       "      <th>Num Documentos</th>\n",
       "    </tr>\n",
       "  </thead>\n",
       "  <tbody>\n",
       "    <tr>\n",
       "      <th>0</th>\n",
       "      <td>0</td>\n",
       "      <td>640</td>\n",
       "    </tr>\n",
       "    <tr>\n",
       "      <th>1</th>\n",
       "      <td>1</td>\n",
       "      <td>289</td>\n",
       "    </tr>\n",
       "    <tr>\n",
       "      <th>2</th>\n",
       "      <td>2</td>\n",
       "      <td>97</td>\n",
       "    </tr>\n",
       "  </tbody>\n",
       "</table>\n",
       "</div>"
      ],
      "text/plain": [
       "   Topico Num  Num Documentos\n",
       "0           0             640\n",
       "1           1             289\n",
       "2           2              97"
      ]
     },
     "execution_count": 32,
     "metadata": {},
     "output_type": "execute_result"
    }
   ],
   "source": [
    "df_topic_distribution = df_document_topic['Topic_dom'].value_counts().reset_index(name=\"Num Documents\")\n",
    "df_topic_distribution.columns = ['Topico Num', 'Num Documentos']\n",
    "df_topic_distribution"
   ]
  },
  {
   "cell_type": "markdown",
   "metadata": {},
   "source": [
    "**Visualización del Tópico dominante:** Una forma de visualización muy común son las _Word Clouds_ (nube de palabras). Es una imagen compuesta por una combinación de palabras distintas que pueden constituir un texto y donde el tamaño de cada palabra es proporcional a la frecuencia de la palabra en ese texto. Como ejemplo, la siguiente figura muestra la word cloud para el tópico 0 (tópico dominante)."
   ]
  },
  {
   "cell_type": "code",
   "execution_count": 39,
   "metadata": {},
   "outputs": [
    {
     "data": {
      "image/png": "[encoded data removed]",
      "text/plain": [
       "<Figure size 432x288 with 1 Axes>"
      ]
     },
     "metadata": {},
     "output_type": "display_data"
    }
   ],
   "source": [
    "topico_dom = best_lda_model.components_[0]\n",
    "topic_words = [tf_feature_names[i] for i in topico_dom.argsort()[:-50 - 1 :-1]]\n",
    "#topico_dom.shape (NUMERO DE CARACTERISTICAS, ES IGUAL PARA TODOS LOS TOPICOS)\n",
    "\n",
    "#NECESARIO INSTALAR VISUAL STUDIO\n",
    "\n",
    "import os\n",
    "from PIL import Image\n",
    "import matplotlib.pyplot as plt\n",
    "from setuptools import setup\n",
    "from wordcloud import WordCloud\n",
    "\n",
    "firstcloud = WordCloud(\n",
    "                          background_color='white',\n",
    "                          width=2500,\n",
    "                          height=1800\n",
    "                         ).generate(\" \".join(topic_words))\n",
    "plt.imshow(firstcloud)\n",
    "plt.axis('off')\n",
    "plt.show()"
   ]
  }
 ],
 "metadata": {
  "kernelspec": {
   "display_name": "Python 3",
   "language": "python",
   "name": "python3"
  },
  "language_info": {
   "codemirror_mode": {
    "name": "ipython",
    "version": 3
   },
   "file_extension": ".py",
   "mimetype": "text/x-python",
   "name": "python",
   "nbconvert_exporter": "python",
   "pygments_lexer": "ipython3",
   "version": "3.6.5"
  }
 },
 "nbformat": 4,
 "nbformat_minor": 2
}
