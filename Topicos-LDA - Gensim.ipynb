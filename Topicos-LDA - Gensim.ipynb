{
 "cells": [
  {
   "cell_type": "markdown",
   "metadata": {},
   "source": [
    "# Modelado de Topicos en Especificaciones de API's REST con LDA usando NLTK y Gensim"
   ]
  },
  {
   "cell_type": "markdown",
   "metadata": {},
   "source": [
    "Este trabajo se propone identificar topicos presentes en la descripcion de las API's REST disponibles en el repositorio https://github.com/APIs-guru/openapi-directory/tree/master/APIs con el objetivo de detectar información referida a prácticas de despligue y aspectos no funcionales de una apliacación. En particular, el enfoque se basa en el modelado de tópicos utilizando el modelo Latent Dirichlet Allocation (LDA), un modelo probabilístico generativo de tópicos. \n",
    "\n",
    "El repositorio analizado está formado por 326 aplicaciones (adobe, instagram, amazon, github, entre otras) que contienen 1418 archivos \"swagger.yaml\" y \"openapi.yaml\" y, de estos últimos, 1026 (72,35\\%) contienen las propiedades \"description\" y \"summary\" que fueron usadas para formar los documentos.\n",
    "\n",
    "El flujo de trabajo propuesto para la detección de los tópicos consta de cuatro etapas: I) Generación del corpus, II) Pre-procesamiento, III) Construcción del modelo, y IV) Identificación de tópicos. La implementación se llevó a cabo con los paquetes NLTK y Gensim de Python."
   ]
  },
  {
   "cell_type": "markdown",
   "metadata": {},
   "source": [
    "**I)- Generación del Corpus:** El primer paso fue crear el corpus de referencia a partir de las especificaciones de APIs del repositorio en estudio. El proceso consistió en recorrer el repositorio y, para cada uno de los archivos swagger y openapi que se encuentran en los distintos directorios de las aplicaciones, generar un documento con la información presente en los tags \"description\" y \"summary\" (para cada operación http del path correspondiente). Finalmente, se obtuvo un corpus con un total de 1026 documentos."
   ]
  },
  {
   "cell_type": "code",
   "execution_count": 1,
   "metadata": {},
   "outputs": [
    {
     "name": "stdout",
     "output_type": "stream",
     "text": [
      "NUMERO DE ELEMENTOS: 1026\n",
      "['Stock and Forex Data and Realtime Quotes Get quotes for all symbols Get a list of symbols for which we provide real-time quotes', 'Strong authentication, without the passwords.']\n"
     ]
    }
   ],
   "source": [
    "import sys\n",
    "import os\n",
    "import yaml\n",
    "\n",
    "data_list=[]\n",
    "\n",
    "for base, dirs, files in os.walk('D:/ISISTAN/Cursos/Mineria de datos/Trabajo topicos/openapi-directory-master/APIs-original'):\n",
    "    for f in files:\n",
    "        text_document = ''\n",
    "        if f == \"swagger.yaml\" or f == \"openapi.yaml\":\n",
    "            data = yaml.safe_load(open(os.path.join(base,f), encoding=\"utf8\"))\n",
    "            try:\n",
    "                if 'description' in list(data['info'].keys()):\n",
    "                    text_document = str(data['info']['description']) + ' '\n",
    "                    #data_list.append(data['info']['description'])\n",
    "                    #print(data['info']['description'])\n",
    "                    \n",
    "                for api in data['paths'].keys():\n",
    "                    for methodHTTP in data['paths'][api].keys():\n",
    "                        #print(data['paths'][api][methodHTTP].keys())\n",
    "                        if 'summary' in list(data['paths'][api][methodHTTP].keys()):\n",
    "                            text_document = text_document + str(data['paths'][api][methodHTTP]['summary']) + ' '\n",
    "                            #print(data['paths'][api][methodHTTP]['summary'])\n",
    "                            #data_list.append(data['paths'][api][methodHTTP]['summary'])\n",
    "               \n",
    "                text_document = text_document[0:len(text_document)-1] #quita el ultimo espacio agregado al final d la cadena\n",
    "                data_list.append(text_document)\n",
    "            except (OSError, RuntimeError, TypeError, NameError, AttributeError):\n",
    "                    pass\n",
    "    \n",
    "                \n",
    "print ('NUMERO DE ELEMENTOS: ' + str(len(data_list)))\n",
    "print(data_list[:2])"
   ]
  },
  {
   "cell_type": "markdown",
   "metadata": {},
   "source": [
    "**II) Pre-procesamiento:** Para la etapa de pre-procesamiento se realizaron 4 actividades, a saber:"
   ]
  },
  {
   "cell_type": "markdown",
   "metadata": {},
   "source": [
    "* Tokenización: se generaron los tokens usando el método simple_preprocess() que nos brinda Gensim."
   ]
  },
  {
   "cell_type": "code",
   "execution_count": 3,
   "metadata": {},
   "outputs": [
    {
     "name": "stdout",
     "output_type": "stream",
     "text": [
      "[['stock', 'and', 'forex', 'data', 'and', 'realtime', 'quotes', 'get', 'quotes', 'for', 'all', 'symbols', 'get', 'list', 'of', 'symbols', 'for', 'which', 'we', 'provide', 'real', 'time', 'quotes']]\n"
     ]
    }
   ],
   "source": [
    "# Gensim\n",
    "import gensim\n",
    "import gensim.corpora as corpora\n",
    "from gensim.utils import simple_preprocess\n",
    "from gensim.models import CoherenceModel, LdaModel\n",
    "\n",
    "#TOKENIZACION CON GENSIM\n",
    "def sent_to_words(sentences):\n",
    "    for sentence in sentences:\n",
    "        yield(gensim.utils.simple_preprocess(str(sentence), deacc=True))  # deacc=True removes punctuations\n",
    "\n",
    "data_words = list(sent_to_words(data_list))\n",
    "print(data_words[:1])"
   ]
  },
  {
   "cell_type": "markdown",
   "metadata": {},
   "source": [
    "* Filtro de stopwords: se llevó a cabo empleando la misma lista de stopwords definida para el experimiento en SKLearn."
   ]
  },
  {
   "cell_type": "code",
   "execution_count": 4,
   "metadata": {},
   "outputs": [
    {
     "name": "stdout",
     "output_type": "stream",
     "text": [
      "[['stock', 'forex', 'realtime', 'quotes', 'quotes', 'symbols', 'symbols', 'provide', 'real', 'time', 'quotes'], ['strong', 'authentication', 'without', 'passwords']]\n"
     ]
    }
   ],
   "source": [
    "import numpy as np\n",
    "import re, nltk\n",
    "from nltk import word_tokenize\n",
    "from nltk.corpus import stopwords\n",
    "from string import ascii_lowercase\n",
    "\n",
    "#ELIMINACION DE STOPWORDS\n",
    "stop_words = stopwords.words('english')\n",
    "stop_words.extend(['WWW','www','HTTP', 'http', 'HTTPS', 'https', 'api', 'API','apis', 'APIS', 'REST', 'rest','RESTfull',\n",
    "                  'RESTful', 'restfull', 'restful', 'service', 'services', 'user', 'users','get','post','put','delete',\n",
    "                  'request', 'response', 'url', 'URL', 'curl','token', 'json', 'crud', 'create', 'update', 'data',\n",
    "                  'code', 'list', 'tokens', 'urls','html', 'html5','yaml', 'httpclient','httprequest','httpresponse'\n",
    "                  'client','clients', 'lenguaje']\n",
    "                  + list(ascii_lowercase))\n",
    "\n",
    "# Define functions for stopwords, bigrams, trigrams and lemmatization\n",
    "def remove_stopwords(texts):\n",
    "    return [[word for word in simple_preprocess(str(doc)) if word not in stop_words] for doc in texts]\n",
    "\n",
    "# Remove Stop Words\n",
    "wordsFiltered = remove_stopwords(data_words)\n",
    "print(wordsFiltered[:2])"
   ]
  },
  {
   "cell_type": "markdown",
   "metadata": {},
   "source": [
    "* Lematizacion: para la lematización se usó la biblioteca _Spacy_, seleccionando solamente las palabras que eran sustantivos, adjetivos, verbos y adverbios mediante pos-tagging, proceso que asigna (o etiqueta) a cada una de las palabras de un texto su categoría gramatical."
   ]
  },
  {
   "cell_type": "code",
   "execution_count": 6,
   "metadata": {},
   "outputs": [
    {
     "name": "stdout",
     "output_type": "stream",
     "text": [
      "[['stock', 'forex', 'realtime', 'quote', 'quote', 'symbol', 'symbol', 'provide', 'real', 'time', 'quote'], ['strong', 'authentication', 'password']]\n"
     ]
    }
   ],
   "source": [
    "#CON ANACONDA\n",
    "#conda install -c conda-forge spacy\n",
    "#python -m spacy download en (INSTALAR DESDE LA CONSOLA DE ANACONDA COMO ADMIN)\n",
    "\n",
    "import spacy\n",
    "#CON PHYTON\n",
    "#python -m spacy download en (EJECUTAR TB COMO ADMIN)\n",
    "nlp = spacy.load('en') # load model with shortcut link \"en\"\n",
    "\n",
    "def lemmatization(texts, allowed_postags=['NOUN', 'ADJ', 'VERB', 'ADV']):\n",
    "    \"\"\"https://spacy.io/api/annotation\"\"\"\n",
    "    texts_out = []\n",
    "    for sent in texts:\n",
    "        doc = nlp(\" \".join(sent)) \n",
    "        texts_out.append([token.lemma_ for token in doc if token.pos_ in allowed_postags])\n",
    "    return texts_out\n",
    "\n",
    "# Do lemmatization keeping only noun, adj, vb, adv\n",
    "data_lemmatized = lemmatization(wordsFiltered, allowed_postags=['NOUN', 'ADJ', 'VERB', 'ADV'])\n",
    "\n",
    "print(data_lemmatized[:2])"
   ]
  },
  {
   "cell_type": "markdown",
   "metadata": {},
   "source": [
    "* Vectorización: Gensim crea una identificación única para cada palabra en el documento. El corpus (o matriz de términos) producido es un mapeo de (palabra_id, palabra_frequencia). Por ejemplo, (0, 1) implica que la palabra id 0 aparece una vez en el documento. Esto se usa como entrada para el modelo LDA."
   ]
  },
  {
   "cell_type": "code",
   "execution_count": 7,
   "metadata": {},
   "outputs": [
    {
     "name": "stdout",
     "output_type": "stream",
     "text": [
      "[[(0, 1), (1, 1), (2, 3), (3, 1), (4, 1), (5, 1), (6, 2), (7, 1)], [(8, 1), (9, 1), (10, 1)], [(1, 1), (8, 3), (9, 2), (11, 4), (12, 1), (13, 4), (14, 23), (15, 2), (16, 1), (17, 1), (18, 5), (19, 1), (20, 1), (21, 1), (22, 5), (23, 2), (24, 4), (25, 8), (26, 1), (27, 2), (28, 2), (29, 1), (30, 6), (31, 2), (32, 1), (33, 2), (34, 1), (35, 1), (36, 1), (37, 1), (38, 6), (39, 1), (40, 5), (41, 16), (42, 1), (43, 1), (44, 2), (45, 2), (46, 6), (47, 1), (48, 1), (49, 1), (50, 1), (51, 15), (52, 7), (53, 2), (54, 1), (55, 1), (56, 2), (57, 1), (58, 2), (59, 1), (60, 1), (61, 3), (62, 7), (63, 1), (64, 1), (65, 24), (66, 1), (67, 1), (68, 1), (69, 31), (70, 4), (71, 1), (72, 1), (73, 1), (74, 1), (75, 1), (76, 2), (77, 2), (78, 1), (79, 10), (80, 2), (81, 2), (82, 14), (83, 1), (84, 1), (85, 1), (86, 1), (87, 5), (88, 1), (89, 3), (90, 5), (91, 1), (92, 4), (93, 1), (94, 1), (95, 1), (96, 2), (97, 6), (98, 1), (99, 1), (100, 2), (101, 11), (102, 1), (103, 2), (104, 2), (105, 1), (106, 1), (107, 5), (108, 1), (109, 1), (110, 2), (111, 2), (112, 1), (113, 1), (114, 1), (115, 1), (116, 3), (117, 1), (118, 1), (119, 13), (120, 2), (121, 1), (122, 1), (123, 2), (124, 1), (125, 1), (126, 1), (127, 2), (128, 2), (129, 6), (130, 1), (131, 1), (132, 1), (133, 2), (134, 2), (135, 1), (136, 1), (137, 1), (138, 8), (139, 2), (140, 1), (141, 1), (142, 4), (143, 1), (144, 2), (145, 1), (146, 9), (147, 1), (148, 1), (149, 7), (150, 1), (151, 2), (152, 7), (153, 1), (154, 2), (155, 2), (156, 1), (157, 2), (158, 1), (159, 1), (160, 1), (161, 2), (162, 4), (163, 1), (164, 1), (165, 2), (166, 2), (167, 1), (168, 6), (169, 3), (170, 1), (171, 3), (172, 1), (173, 1), (174, 3), (175, 1), (176, 1), (177, 1), (178, 1), (179, 2), (180, 2), (181, 1), (182, 1), (183, 1), (184, 4), (185, 1), (186, 7)]]\n"
     ]
    }
   ],
   "source": [
    "# Create Dictionary\n",
    "id2word = corpora.Dictionary(data_lemmatized)\n",
    "\n",
    "# Create Corpus\n",
    "texts = data_lemmatized\n",
    "\n",
    "# Term Document Frequency\n",
    "corpus = [id2word.doc2bow(text) for text in texts]\n",
    "\n",
    "# View\n",
    "print(corpus[:3])"
   ]
  },
  {
   "cell_type": "markdown",
   "metadata": {},
   "source": [
    "**III)- Construcción del modelo:** En Gensim, la construcción del modelo LDA se realiza instanciando la clase _gensim.models.ldamodel_ e invocando al método LdaModel(). Para evitar la tarea manual de prueba y evaluación de los parámetros del modelo, se implementó una función que genera modelos LDA según una lista de parámetros. En este experimento el parámetro evaluado fue num_topics en un rango de valores del 1 al 10. Como se puede observar en la Figura, el valor de la _Función de Verosimilitud_ alcanza su valor máximo (-463593.7929699719) cuando el número de tópicos es 3, mientras que la _perplexity_ del modelo es 124.4575."
   ]
  },
  {
   "cell_type": "code",
   "execution_count": 10,
   "metadata": {},
   "outputs": [
    {
     "name": "stdout",
     "output_type": "stream",
     "text": [
      "Perplexity: -466735.08165836334\n",
      "Perplexity: -465333.53037268843\n",
      "Perplexity: -462279.0365330577\n",
      "Perplexity: -462521.40720659494\n",
      "Perplexity: -463812.94727647305\n",
      "Perplexity: -466360.43964225054\n",
      "Perplexity: -466820.29915211746\n",
      "Perplexity: -466332.73926755565\n",
      "Perplexity: -466264.1219917536\n",
      "               1              2              3              4              5  \\\n",
      "0 -466735.081658 -465333.530373 -462279.036533 -462521.407207 -463812.947276   \n",
      "\n",
      "               6              7              8              9  \n",
      "0 -466360.439642 -466820.299152 -466332.739268 -466264.121992  \n"
     ]
    },
    {
     "data": {
      "image/png": "[encoded data removed]",
      "text/plain": [
       "<Figure size 864x576 with 1 Axes>"
      ]
     },
     "metadata": {},
     "output_type": "display_data"
    }
   ],
   "source": [
    "import pandas as pd\n",
    "import matplotlib.pyplot as plt\n",
    "from collections import defaultdict\n",
    "\n",
    "grid = defaultdict(list)\n",
    "# num topics\n",
    "parameter_list=[1,2,3,4,5,6,7,8,9]\n",
    "\n",
    "# for num_topics_value in num_topics_list:\n",
    "for parameter_value in parameter_list:\n",
    "    # run model\n",
    "    model = gensim.models.ldamodel.LdaModel(corpus=corpus, id2word=id2word, num_topics=parameter_value)\n",
    "    perplex = model.bound(corpus)\n",
    "    print (\"Perplexity: %s\" % perplex)\n",
    "    grid[parameter_value].append(perplex)\n",
    "    \n",
    "    #per_word_perplex = np.exp2(-perplex / sum(cnt for document in corpus for _, cnt in document))\n",
    "    #print (\"Per-word Perplexity: %s\" % per_word_perplex)\n",
    "    #grid[parameter_value].append(per_word_perplex)\n",
    "\n",
    "df = pd.DataFrame(grid)\n",
    "#print(df)\n",
    "plt.figure(figsize=(12, 8))\n",
    "df.iloc[0].transpose().plot(color=\"#254F09\")\n",
    "plt.xlim(parameter_list[0], parameter_list[-1])\n",
    "plt.ylabel('Log Likelihood Score')\n",
    "plt.xlabel('Num Topics')\n",
    "plt.title('')\n",
    "plt.show()"
   ]
  },
  {
   "cell_type": "code",
   "execution_count": 11,
   "metadata": {},
   "outputs": [],
   "source": [
    "import warnings\n",
    "warnings.filterwarnings(\"ignore\", category=DeprecationWarning) \n",
    "# Build LDA model\n",
    "optimal_model = gensim.models.ldamodel.LdaModel(corpus=corpus,\n",
    "                                           id2word=id2word,\n",
    "                                           num_topics=3, \n",
    "                                           #random_state=100,\n",
    "                                           #update_every=1,\n",
    "                                           #chunksize=100,\n",
    "                                           passes=100,\n",
    "                                           alpha='auto')\n",
    "                                           #per_word_topics=True)"
   ]
  },
  {
   "cell_type": "markdown",
   "metadata": {},
   "source": [
    "**IV)- Identificación de Tópicos:** La clase _ldamodel_ de Gensim contiene el método print_topics((num\\_words=30)) al cuál al ser invocado muestra las 30 primeras palabras de los tópicos de nuestro modelo LDA. La salida luego de la invocación se muestra a continuación:"
   ]
  },
  {
   "cell_type": "code",
   "execution_count": 12,
   "metadata": {},
   "outputs": [
    {
     "name": "stdout",
     "output_type": "stream",
     "text": [
      "[(0,\n",
      "  '0.018*\"azure\" + 0.017*\"network\" + 0.014*\"use\" + 0.014*\"com\" + '\n",
      "  '0.013*\"microsoft\" + 0.012*\"return\" + 0.010*\"web\" + 0.009*\"entity\" + '\n",
      "  '0.009*\"subscription\" + 0.008*\"management\" + 0.008*\"app\" + 0.008*\"provide\" + '\n",
      "  '0.007*\"product\" + 0.007*\"order\" + 0.007*\"resource\" + 0.006*\"set\" + '\n",
      "  '0.006*\"item\" + 0.006*\"would\" + 0.006*\"information\" + 0.006*\"operation\" + '\n",
      "  '0.006*\"manage\" + 0.005*\"developer\" + 0.005*\"endpoint\" + 0.005*\"search\" + '\n",
      "  '0.005*\"payment\" + 0.005*\"new\" + 0.005*\"detail\" + 0.005*\"give\" + '\n",
      "  '0.005*\"find\" + 0.004*\"end\"'),\n",
      " (1,\n",
      "  '0.040*\"get\" + 0.021*\"fabric\" + 0.013*\"cluster\" + 0.012*\"use\" + '\n",
      "  '0.012*\"player\" + 0.012*\"report\" + 0.009*\"information\" + 0.009*\"give\" + '\n",
      "  '0.009*\"application\" + 0.008*\"specify\" + 0.008*\"stat\" + 0.008*\"facility\" + '\n",
      "  '0.007*\"search\" + 0.007*\"date\" + 0.007*\"pay\" + 0.007*\"health\" + '\n",
      "  '0.007*\"would\" + 0.007*\"detail\" + 0.006*\"echo\" + 0.006*\"br\" + 0.006*\"team\" + '\n",
      "  '0.006*\"span\" + 0.006*\"node\" + 0.006*\"game\" + 0.005*\"name\" + 0.005*\"season\" '\n",
      "  '+ 0.005*\"detailed\" + 0.005*\"find\" + 0.005*\"halo\" + 0.004*\"package\"'),\n",
      " (2,\n",
      "  '0.026*\"specify\" + 0.019*\"retrieve\" + 0.016*\"type\" + 0.015*\"search\" + '\n",
      "  '0.015*\"entry\" + 0.015*\"group\" + 0.013*\"resource\" + 0.012*\"project\" + '\n",
      "  '0.009*\"account\" + 0.009*\"key\" + 0.009*\"azure\" + 0.008*\"get\" + 0.008*\"file\" '\n",
      "  '+ 0.008*\"database\" + 0.007*\"new\" + 0.007*\"delete\" + 0.007*\"job\" + '\n",
      "  '0.007*\"specific\" + 0.007*\"server\" + 0.006*\"add\" + 0.006*\"exist\" + '\n",
      "  '0.006*\"return\" + 0.006*\"would\" + 0.006*\"update\" + 0.006*\"security\" + '\n",
      "  '0.006*\"fetch\" + 0.006*\"collection\" + 0.006*\"information\" + 0.006*\"event\" + '\n",
      "  '0.006*\"associate\"')]\n"
     ]
    }
   ],
   "source": [
    "from pprint import pprint\n",
    "model_topics = optimal_model.show_topics(formatted=False)\n",
    "pprint(optimal_model.print_topics(num_words=30))"
   ]
  },
  {
   "cell_type": "markdown",
   "metadata": {},
   "source": [
    "**Visualizacion de Topicos Dominantes por Documento:** Para clasificar un documento como perteneciente a un tópico en particular, el enfoque usado es ver qué tópico tiene la mayor contribución a ese documento y asignarlo. En la siguiente tabla se listan los primeros 10 documentos junto con la proporción de contribución a cada tópico. El tópico predominante se detalla aparte en su propia columna."
   ]
  },
  {
   "cell_type": "code",
   "execution_count": 14,
   "metadata": {},
   "outputs": [
    {
     "data": {
      "text/html": [
       "<div>\n",
       "<style scoped>\n",
       "    .dataframe tbody tr th:only-of-type {\n",
       "        vertical-align: middle;\n",
       "    }\n",
       "\n",
       "    .dataframe tbody tr th {\n",
       "        vertical-align: top;\n",
       "    }\n",
       "\n",
       "    .dataframe thead th {\n",
       "        text-align: right;\n",
       "    }\n",
       "</style>\n",
       "<table border=\"1\" class=\"dataframe\">\n",
       "  <thead>\n",
       "    <tr style=\"text-align: right;\">\n",
       "      <th></th>\n",
       "      <th>Document_No</th>\n",
       "      <th>Dominant_Topic</th>\n",
       "      <th>Topic_Perc_Contrib</th>\n",
       "      <th>Keywords</th>\n",
       "      <th>Text</th>\n",
       "    </tr>\n",
       "  </thead>\n",
       "  <tbody>\n",
       "    <tr>\n",
       "      <th>0</th>\n",
       "      <td>0</td>\n",
       "      <td>2.0</td>\n",
       "      <td>0.99</td>\n",
       "      <td>specify, retrieve, type, search, entry, group,...</td>\n",
       "      <td>Stock and Forex Data and Realtime Quotes Get q...</td>\n",
       "    </tr>\n",
       "    <tr>\n",
       "      <th>1</th>\n",
       "      <td>1</td>\n",
       "      <td>0.0</td>\n",
       "      <td>0.97</td>\n",
       "      <td>azure, network, use, com, microsoft, return, w...</td>\n",
       "      <td>Strong authentication, without the passwords.</td>\n",
       "    </tr>\n",
       "    <tr>\n",
       "      <th>2</th>\n",
       "      <td>2</td>\n",
       "      <td>0.0</td>\n",
       "      <td>0.89</td>\n",
       "      <td>azure, network, use, com, microsoft, return, w...</td>\n",
       "      <td>### The Internet of Things for Everyone\\n\\nThe...</td>\n",
       "    </tr>\n",
       "    <tr>\n",
       "      <th>3</th>\n",
       "      <td>3</td>\n",
       "      <td>1.0</td>\n",
       "      <td>0.51</td>\n",
       "      <td>get, fabric, cluster, use, player, report, inf...</td>\n",
       "      <td>Swagger AEM is an OpenAPI specification for Ad...</td>\n",
       "    </tr>\n",
       "    <tr>\n",
       "      <th>4</th>\n",
       "      <td>4</td>\n",
       "      <td>0.0</td>\n",
       "      <td>1.00</td>\n",
       "      <td>azure, network, use, com, microsoft, return, w...</td>\n",
       "      <td>A web service to initiate and authorise paymen...</td>\n",
       "    </tr>\n",
       "    <tr>\n",
       "      <th>5</th>\n",
       "      <td>5</td>\n",
       "      <td>0.0</td>\n",
       "      <td>1.00</td>\n",
       "      <td>azure, network, use, com, microsoft, return, w...</td>\n",
       "      <td>A web service to initiate and authorise paymen...</td>\n",
       "    </tr>\n",
       "    <tr>\n",
       "      <th>6</th>\n",
       "      <td>6</td>\n",
       "      <td>0.0</td>\n",
       "      <td>1.00</td>\n",
       "      <td>azure, network, use, com, microsoft, return, w...</td>\n",
       "      <td>A web service to initiate and authorise paymen...</td>\n",
       "    </tr>\n",
       "    <tr>\n",
       "      <th>7</th>\n",
       "      <td>7</td>\n",
       "      <td>0.0</td>\n",
       "      <td>1.00</td>\n",
       "      <td>azure, network, use, com, microsoft, return, w...</td>\n",
       "      <td>A set of API endpoints that allow you to initi...</td>\n",
       "    </tr>\n",
       "    <tr>\n",
       "      <th>8</th>\n",
       "      <td>8</td>\n",
       "      <td>0.0</td>\n",
       "      <td>1.00</td>\n",
       "      <td>azure, network, use, com, microsoft, return, w...</td>\n",
       "      <td>A set of API endpoints that allow you to initi...</td>\n",
       "    </tr>\n",
       "    <tr>\n",
       "      <th>9</th>\n",
       "      <td>9</td>\n",
       "      <td>0.0</td>\n",
       "      <td>1.00</td>\n",
       "      <td>azure, network, use, com, microsoft, return, w...</td>\n",
       "      <td>Additional methods that allow you to manage pa...</td>\n",
       "    </tr>\n",
       "  </tbody>\n",
       "</table>\n",
       "</div>"
      ],
      "text/plain": [
       "   Document_No  Dominant_Topic  Topic_Perc_Contrib  \\\n",
       "0            0             2.0                0.99   \n",
       "1            1             0.0                0.97   \n",
       "2            2             0.0                0.89   \n",
       "3            3             1.0                0.51   \n",
       "4            4             0.0                1.00   \n",
       "5            5             0.0                1.00   \n",
       "6            6             0.0                1.00   \n",
       "7            7             0.0                1.00   \n",
       "8            8             0.0                1.00   \n",
       "9            9             0.0                1.00   \n",
       "\n",
       "                                            Keywords  \\\n",
       "0  specify, retrieve, type, search, entry, group,...   \n",
       "1  azure, network, use, com, microsoft, return, w...   \n",
       "2  azure, network, use, com, microsoft, return, w...   \n",
       "3  get, fabric, cluster, use, player, report, inf...   \n",
       "4  azure, network, use, com, microsoft, return, w...   \n",
       "5  azure, network, use, com, microsoft, return, w...   \n",
       "6  azure, network, use, com, microsoft, return, w...   \n",
       "7  azure, network, use, com, microsoft, return, w...   \n",
       "8  azure, network, use, com, microsoft, return, w...   \n",
       "9  azure, network, use, com, microsoft, return, w...   \n",
       "\n",
       "                                                Text  \n",
       "0  Stock and Forex Data and Realtime Quotes Get q...  \n",
       "1      Strong authentication, without the passwords.  \n",
       "2  ### The Internet of Things for Everyone\\n\\nThe...  \n",
       "3  Swagger AEM is an OpenAPI specification for Ad...  \n",
       "4  A web service to initiate and authorise paymen...  \n",
       "5  A web service to initiate and authorise paymen...  \n",
       "6  A web service to initiate and authorise paymen...  \n",
       "7  A set of API endpoints that allow you to initi...  \n",
       "8  A set of API endpoints that allow you to initi...  \n",
       "9  Additional methods that allow you to manage pa...  "
      ]
     },
     "execution_count": 14,
     "metadata": {},
     "output_type": "execute_result"
    }
   ],
   "source": [
    "import warnings\n",
    "warnings.simplefilter(action='ignore', category=FutureWarning)\n",
    "import pandas as pd\n",
    "\n",
    "def format_topics_sentences(ldamodel=optimal_model, corpus=corpus, texts=data):\n",
    "    # Init output\n",
    "    sent_topics_df = pd.DataFrame()\n",
    "\n",
    "    # Get main topic in each document\n",
    "    for i, row in enumerate(ldamodel[corpus]):\n",
    "        row = sorted(row, key=lambda x: (x[1]), reverse=True)\n",
    "        # Get the Dominant topic, Perc Contribution and Keywords for each document\n",
    "        for j, (topic_num, prop_topic) in enumerate(row):\n",
    "            if j == 0:  # => dominant topic\n",
    "                wp = ldamodel.show_topic(topic_num)\n",
    "                topic_keywords = \", \".join([word for word, prop in wp])\n",
    "                sent_topics_df = sent_topics_df.append(pd.Series([int(topic_num), round(prop_topic,2), topic_keywords]), ignore_index=True)\n",
    "            else:\n",
    "                break\n",
    "    sent_topics_df.columns = ['Dominant_Topic', 'Perc_Contribution', 'Topic_Keywords']\n",
    "\n",
    "    # Add original text to the end of the output\n",
    "    contents = pd.Series(texts)\n",
    "    sent_topics_df = pd.concat([sent_topics_df, contents], axis=1)\n",
    "    return(sent_topics_df)\n",
    "\n",
    "\n",
    "df_topic_sents_keywords = format_topics_sentences(ldamodel=optimal_model, corpus=corpus, texts=data_list)\n",
    "\n",
    "# Format\n",
    "df_dominant_topic = df_topic_sents_keywords.reset_index()\n",
    "df_dominant_topic.columns = ['Document_No', 'Dominant_Topic', 'Topic_Perc_Contrib', 'Keywords', 'Text']\n",
    "\n",
    "# Show\n",
    "df_dominant_topic.head(10)"
   ]
  },
  {
   "cell_type": "markdown",
   "metadata": {},
   "source": [
    "**Número de documentos por tópico:** Finalmente, haciendo una distribución cruzada de los datos se obtiene el número de documentos en los que aparece un determinado topico."
   ]
  },
  {
   "cell_type": "code",
   "execution_count": 15,
   "metadata": {},
   "outputs": [
    {
     "data": {
      "text/html": [
       "<div>\n",
       "<style scoped>\n",
       "    .dataframe tbody tr th:only-of-type {\n",
       "        vertical-align: middle;\n",
       "    }\n",
       "\n",
       "    .dataframe tbody tr th {\n",
       "        vertical-align: top;\n",
       "    }\n",
       "\n",
       "    .dataframe thead th {\n",
       "        text-align: right;\n",
       "    }\n",
       "</style>\n",
       "<table border=\"1\" class=\"dataframe\">\n",
       "  <thead>\n",
       "    <tr style=\"text-align: right;\">\n",
       "      <th></th>\n",
       "      <th>Dominant_Topic</th>\n",
       "      <th>Topic_Keywords</th>\n",
       "      <th>Num_Documents</th>\n",
       "      <th>Perc_Documents</th>\n",
       "    </tr>\n",
       "  </thead>\n",
       "  <tbody>\n",
       "    <tr>\n",
       "      <th>0</th>\n",
       "      <td>2.0</td>\n",
       "      <td>specify, retrieve, type, search, entry, group,...</td>\n",
       "      <td>599.0</td>\n",
       "      <td>0.6</td>\n",
       "    </tr>\n",
       "    <tr>\n",
       "      <th>1</th>\n",
       "      <td>0.0</td>\n",
       "      <td>azure, network, use, com, microsoft, return, w...</td>\n",
       "      <td>126.0</td>\n",
       "      <td>0.1</td>\n",
       "    </tr>\n",
       "    <tr>\n",
       "      <th>2</th>\n",
       "      <td>0.0</td>\n",
       "      <td>azure, network, use, com, microsoft, return, w...</td>\n",
       "      <td>301.0</td>\n",
       "      <td>0.3</td>\n",
       "    </tr>\n",
       "  </tbody>\n",
       "</table>\n",
       "</div>"
      ],
      "text/plain": [
       "   Dominant_Topic                                     Topic_Keywords  \\\n",
       "0             2.0  specify, retrieve, type, search, entry, group,...   \n",
       "1             0.0  azure, network, use, com, microsoft, return, w...   \n",
       "2             0.0  azure, network, use, com, microsoft, return, w...   \n",
       "\n",
       "   Num_Documents  Perc_Documents  \n",
       "0          599.0             0.6  \n",
       "1          126.0             0.1  \n",
       "2          301.0             0.3  "
      ]
     },
     "execution_count": 15,
     "metadata": {},
     "output_type": "execute_result"
    }
   ],
   "source": [
    "# Number of Documents for Each Topic\n",
    "topic_counts = df_topic_sents_keywords['Dominant_Topic'].value_counts()\n",
    "\n",
    "# Percentage of Documents for Each Topic\n",
    "topic_contribution = round(topic_counts/topic_counts.sum(), 1)\n",
    "\n",
    "# Topic Number and Keywords\n",
    "topic_num_keywords = df_topic_sents_keywords[['Dominant_Topic', 'Topic_Keywords']]\n",
    "\n",
    "# Concatenate Column wise\n",
    "df_dominant_topics = pd.concat([topic_num_keywords, topic_counts, topic_contribution], axis=1)\n",
    "\n",
    "# Change Column names\n",
    "df_dominant_topics.columns = ['Dominant_Topic', 'Topic_Keywords', 'Num_Documents', 'Perc_Documents']\n",
    "\n",
    "# Show\n",
    "df_dominant_topics[:3]"
   ]
  },
  {
   "cell_type": "markdown",
   "metadata": {},
   "source": [
    "**Visualización del Tópico dominante:** Una forma de visualización muy común son las _Word Clouds_ (nube de palabras). Es una imagen compuesta por una combinación de palabras distintas que pueden constituir un texto y donde el tamaño de cada palabra es proporcional a la frecuencia de la palabra en ese texto. A continuación, se generan las word clouds para los tópicos obtenidos."
   ]
  },
  {
   "cell_type": "code",
   "execution_count": 16,
   "metadata": {},
   "outputs": [
    {
     "data": {
      "image/png": "[encoded data removed]",
      "text/plain": [
       "<Figure size 432x288 with 1 Axes>"
      ]
     },
     "metadata": {},
     "output_type": "display_data"
    },
    {
     "data": {
      "image/png": "[encoded data removed]",
      "text/plain": [
       "<Figure size 432x288 with 1 Axes>"
      ]
     },
     "metadata": {},
     "output_type": "display_data"
    },
    {
     "data": {
      "image/png": "[encoded data removed]",
      "text/plain": [
       "<Figure size 432x288 with 1 Axes>"
      ]
     },
     "metadata": {},
     "output_type": "display_data"
    }
   ],
   "source": [
    "import matplotlib.pyplot as plt\n",
    "from wordcloud import WordCloud\n",
    "for t in range(optimal_model.num_topics):\n",
    "    plt.figure()\n",
    "    plt.imshow(WordCloud( background_color='white',\n",
    "                          width=2500,\n",
    "                          height=1800).fit_words(dict(optimal_model.show_topic(t, 30))))\n",
    "    plt.axis(\"off\")\n",
    "    plt.title(\"Topic #\" + str(t))\n",
    "    plt.show()"
   ]
  }
 ],
 "metadata": {
  "kernelspec": {
   "display_name": "Python 3",
   "language": "python",
   "name": "python3"
  },
  "language_info": {
   "codemirror_mode": {
    "name": "ipython",
    "version": 3
   },
   "file_extension": ".py",
   "mimetype": "text/x-python",
   "name": "python",
   "nbconvert_exporter": "python",
   "pygments_lexer": "ipython3",
   "version": "3.6.5"
  }
 },
 "nbformat": 4,
 "nbformat_minor": 2
}
